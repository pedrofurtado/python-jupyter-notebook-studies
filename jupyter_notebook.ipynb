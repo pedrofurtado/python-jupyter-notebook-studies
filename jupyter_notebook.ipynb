{
 "cells": [
  {
   "cell_type": "code",
   "execution_count": 9,
   "id": "fb37d89b-148f-4eaa-80bf-7853e4aea22f",
   "metadata": {},
   "outputs": [
    {
     "name": "stdout",
     "output_type": "stream",
     "text": [
      "Requirement already satisfied: python-dotenv in /opt/conda/lib/python3.9/site-packages (1.0.1)\n",
      "The dotenv extension is already loaded. To reload it, use:\n",
      "  %reload_ext dotenv\n"
     ]
    },
    {
     "data": {
      "text/plain": [
       "True"
      ]
     },
     "execution_count": 9,
     "metadata": {},
     "output_type": "execute_result"
    }
   ],
   "source": [
    "# Loading env variables from your .env file\n",
    "!pip install python-dotenv\n",
    "%load_ext dotenv\n",
    "%reload_ext dotenv\n",
    "%dotenv\n",
    "from dotenv import load_dotenv\n",
    "load_dotenv(\".env\", override=True)"
   ]
  },
  {
   "cell_type": "code",
   "execution_count": 10,
   "id": "02c971a2-f235-48c1-8406-c67271cd48ac",
   "metadata": {},
   "outputs": [
    {
     "name": "stdout",
     "output_type": "stream",
     "text": [
      "Requirement already satisfied: cs in /opt/conda/lib/python3.9/site-packages (from -r requirements.txt (line 1)) (3.2.0)\n",
      "Requirement already satisfied: boto3 in /opt/conda/lib/python3.9/site-packages (from -r requirements.txt (line 2)) (1.34.131)\n",
      "Requirement already satisfied: pandas in /opt/conda/lib/python3.9/site-packages (from -r requirements.txt (line 3)) (2.2.2)\n",
      "Requirement already satisfied: numpy in /opt/conda/lib/python3.9/site-packages (from -r requirements.txt (line 4)) (2.0.0)\n",
      "Requirement already satisfied: tabulate in /opt/conda/lib/python3.9/site-packages (from -r requirements.txt (line 5)) (0.9.0)\n",
      "Requirement already satisfied: pyarrow in /opt/conda/lib/python3.9/site-packages (from -r requirements.txt (line 6)) (16.1.0)\n",
      "Requirement already satisfied: pytz in /opt/conda/lib/python3.9/site-packages (from cs->-r requirements.txt (line 1)) (2022.4)\n",
      "Requirement already satisfied: requests in /opt/conda/lib/python3.9/site-packages (from cs->-r requirements.txt (line 1)) (2.28.1)\n",
      "Requirement already satisfied: jmespath<2.0.0,>=0.7.1 in /opt/conda/lib/python3.9/site-packages (from boto3->-r requirements.txt (line 2)) (1.0.1)\n",
      "Requirement already satisfied: s3transfer<0.11.0,>=0.10.0 in /opt/conda/lib/python3.9/site-packages (from boto3->-r requirements.txt (line 2)) (0.10.1)\n",
      "Requirement already satisfied: botocore<1.35.0,>=1.34.131 in /opt/conda/lib/python3.9/site-packages (from boto3->-r requirements.txt (line 2)) (1.34.131)\n",
      "Requirement already satisfied: python-dateutil>=2.8.2 in /opt/conda/lib/python3.9/site-packages (from pandas->-r requirements.txt (line 3)) (2.8.2)\n",
      "Requirement already satisfied: tzdata>=2022.7 in /opt/conda/lib/python3.9/site-packages (from pandas->-r requirements.txt (line 3)) (2024.1)\n",
      "Requirement already satisfied: urllib3<1.27,>=1.25.4 in /opt/conda/lib/python3.9/site-packages (from botocore<1.35.0,>=1.34.131->boto3->-r requirements.txt (line 2)) (1.26.11)\n",
      "Requirement already satisfied: six>=1.5 in /opt/conda/lib/python3.9/site-packages (from python-dateutil>=2.8.2->pandas->-r requirements.txt (line 3)) (1.16.0)\n",
      "Requirement already satisfied: certifi>=2017.4.17 in /opt/conda/lib/python3.9/site-packages (from requests->cs->-r requirements.txt (line 1)) (2022.9.24)\n",
      "Requirement already satisfied: idna<4,>=2.5 in /opt/conda/lib/python3.9/site-packages (from requests->cs->-r requirements.txt (line 1)) (3.4)\n",
      "Requirement already satisfied: charset-normalizer<3,>=2 in /opt/conda/lib/python3.9/site-packages (from requests->cs->-r requirements.txt (line 1)) (2.1.1)\n"
     ]
    }
   ],
   "source": [
    "# Installing the pip packages from requirements.txt\n",
    "!pip install -r requirements.txt"
   ]
  },
  {
   "cell_type": "code",
   "execution_count": 12,
   "id": "bb3e2eef-5282-4cac-b4fb-df06ce923217",
   "metadata": {},
   "outputs": [
    {
     "data": {
      "text/plain": [
       "environ{'SHELL': '/bin/bash',\n",
       "        'HOSTNAME': '5ddf4efb3a82',\n",
       "        'LANGUAGE': 'en_US.UTF-8',\n",
       "        'NB_UID': '1000',\n",
       "        'PWD': '/home/jovyan',\n",
       "        'HOME': '/home/jovyan',\n",
       "        'LANG': 'en_US.UTF-8',\n",
       "        'NB_GID': '100',\n",
       "        'TERM': 'xterm-color',\n",
       "        'SHLVL': '0',\n",
       "        'CONDA_DIR': '/opt/conda',\n",
       "        'NB_USER': 'jovyan',\n",
       "        'LC_ALL': 'en_US.UTF-8',\n",
       "        'PATH': '/opt/conda/bin:/usr/local/sbin:/usr/local/bin:/usr/sbin:/usr/bin:/sbin:/bin',\n",
       "        'DEBIAN_FRONTEND': 'noninteractive',\n",
       "        'JPY_SESSION_NAME': 'work/447b4145-a246-4782-9ca0-b936651565b2',\n",
       "        'JPY_PARENT_PID': '7',\n",
       "        'CLICOLOR': '1',\n",
       "        'PAGER': 'cat',\n",
       "        'GIT_PAGER': 'cat',\n",
       "        'MPLBACKEND': 'module://matplotlib_inline.backend_inline',\n",
       "        'ABC': 'ppp',\n",
       "        'MY_ENV_HERE': 'some_value'}"
      ]
     },
     "execution_count": 12,
     "metadata": {},
     "output_type": "execute_result"
    }
   ],
   "source": [
    "# Printing the environment variables (to force reload them, run the first snippet of code again)\n",
    "import os\n",
    "os.environ"
   ]
  },
  {
   "cell_type": "code",
   "execution_count": 13,
   "id": "2558bf9e-399e-424a-8d52-233f3bb9bb29",
   "metadata": {},
   "outputs": [],
   "source": [
    "# Imports of libs here\n",
    "\n",
    "from cs import CloudStack\n",
    "import json\n",
    "import boto3\n",
    "import pandas as pd\n",
    "import numpy as np\n",
    "import uuid\n",
    "import re\n",
    "from io import BytesIO\n",
    "from datetime import datetime, timedelta\n"
   ]
  },
  {
   "cell_type": "code",
   "execution_count": 14,
   "id": "87be6141-d341-491a-a5fd-dd04a5183d2d",
   "metadata": {},
   "outputs": [
    {
     "name": "stdout",
     "output_type": "stream",
     "text": [
      "DO SOMETHING!\n"
     ]
    }
   ],
   "source": [
    "def your_script_here():\n",
    "    print(\"DO SOMETHING!\")\n",
    "    \n",
    "your_script_here()"
   ]
  }
 ],
 "metadata": {
  "kernelspec": {
   "display_name": "Python 3 (ipykernel)",
   "language": "python",
   "name": "python3"
  },
  "language_info": {
   "codemirror_mode": {
    "name": "ipython",
    "version": 3
   },
   "file_extension": ".py",
   "mimetype": "text/x-python",
   "name": "python",
   "nbconvert_exporter": "python",
   "pygments_lexer": "ipython3",
   "version": "3.9.13"
  }
 },
 "nbformat": 4,
 "nbformat_minor": 5
}
